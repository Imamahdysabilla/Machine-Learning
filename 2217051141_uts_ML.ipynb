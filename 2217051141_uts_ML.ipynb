{
  "nbformat": 4,
  "nbformat_minor": 0,
  "metadata": {
    "colab": {
      "provenance": [],
      "authorship_tag": "ABX9TyPXhpFKqbW8iJv5BIjZD5Rv",
      "include_colab_link": true
    },
    "kernelspec": {
      "name": "python3",
      "display_name": "Python 3"
    },
    "language_info": {
      "name": "python"
    }
  },
  "cells": [
    {
      "cell_type": "markdown",
      "metadata": {
        "id": "view-in-github",
        "colab_type": "text"
      },
      "source": [
        "<a href=\"https://colab.research.google.com/github/Imamahdysabilla/Machine-Learning/blob/main/2217051141_uts_ML.ipynb\" target=\"_parent\"><img src=\"https://colab.research.google.com/assets/colab-badge.svg\" alt=\"Open In Colab\"/></a>"
      ]
    },
    {
      "cell_type": "code",
      "execution_count": 1,
      "metadata": {
        "colab": {
          "base_uri": "https://localhost:8080/"
        },
        "id": "NvZzzY8q-2S3",
        "outputId": "7313f4f1-53be-4a6c-82b4-e94169a046cd"
      },
      "outputs": [
        {
          "output_type": "execute_result",
          "data": {
            "text/plain": [
              "array([0, 2, 1, 1, 2, 0, 0])"
            ]
          },
          "metadata": {},
          "execution_count": 1
        }
      ],
      "source": [
        "import numpy as np\n",
        "from sklearn.cluster import AgglomerativeClustering\n",
        "\n",
        "# Dataset baru\n",
        "data_new = np.array([[-5, -2], [-2, -1], [-3, -4], [-2, -4], [-1, -1], [-5, -1], [-4, -2]])\n",
        "\n",
        "# Tentukan jumlah cluster\n",
        "num_clusters_new = 3\n",
        "\n",
        "# Inisialisasi dan jalankan Agglomerative Clustering\n",
        "agglo_new = AgglomerativeClustering(n_clusters=num_clusters_new)\n",
        "clusters_agglo_new = agglo_new.fit_predict(data_new)\n",
        "\n",
        "clusters_agglo_new\n"
      ]
    }
  ]
}