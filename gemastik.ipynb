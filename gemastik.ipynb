{
  "nbformat": 4,
  "nbformat_minor": 0,
  "metadata": {
    "colab": {
      "provenance": [],
      "authorship_tag": "ABX9TyMFto5SXqgyrlDkiUJw6HsC",
      "include_colab_link": true
    },
    "kernelspec": {
      "name": "python3",
      "display_name": "Python 3"
    },
    "language_info": {
      "name": "python"
    }
  },
  "cells": [
    {
      "cell_type": "markdown",
      "metadata": {
        "id": "view-in-github",
        "colab_type": "text"
      },
      "source": [
        "<a href=\"https://colab.research.google.com/github/Imamahdysabilla/Machine-Learning/blob/main/gemastik.ipynb\" target=\"_parent\"><img src=\"https://colab.research.google.com/assets/colab-badge.svg\" alt=\"Open In Colab\"/></a>"
      ]
    },
    {
      "cell_type": "code",
      "source": [
        "!pip install numpy opencv-python-headless gitpython shapely tensorflow==2.4.1 keras==2.4.3\n"
      ],
      "metadata": {
        "colab": {
          "base_uri": "https://localhost:8080/"
        },
        "id": "3YTYCcTH8UVt",
        "outputId": "6f043f1a-1c59-42cd-e06c-2c140ceb2a33"
      },
      "execution_count": 4,
      "outputs": [
        {
          "output_type": "stream",
          "name": "stdout",
          "text": [
            "Requirement already satisfied: numpy in /usr/local/lib/python3.10/dist-packages (1.25.2)\n",
            "Requirement already satisfied: opencv-python-headless in /usr/local/lib/python3.10/dist-packages (4.10.0.82)\n",
            "Requirement already satisfied: gitpython in /usr/local/lib/python3.10/dist-packages (3.1.43)\n",
            "Requirement already satisfied: shapely in /usr/local/lib/python3.10/dist-packages (2.0.4)\n",
            "\u001b[31mERROR: Could not find a version that satisfies the requirement tensorflow==2.4.1 (from versions: 2.8.0rc0, 2.8.0rc1, 2.8.0, 2.8.1, 2.8.2, 2.8.3, 2.8.4, 2.9.0rc0, 2.9.0rc1, 2.9.0rc2, 2.9.0, 2.9.1, 2.9.2, 2.9.3, 2.10.0rc0, 2.10.0rc1, 2.10.0rc2, 2.10.0rc3, 2.10.0, 2.10.1, 2.11.0rc0, 2.11.0rc1, 2.11.0rc2, 2.11.0, 2.11.1, 2.12.0rc0, 2.12.0rc1, 2.12.0, 2.12.1, 2.13.0rc0, 2.13.0rc1, 2.13.0rc2, 2.13.0, 2.13.1, 2.14.0rc0, 2.14.0rc1, 2.14.0, 2.14.1, 2.15.0rc0, 2.15.0rc1, 2.15.0, 2.15.0.post1, 2.15.1, 2.16.0rc0, 2.16.1)\u001b[0m\u001b[31m\n",
            "\u001b[0m\u001b[31mERROR: No matching distribution found for tensorflow==2.4.1\u001b[0m\u001b[31m\n",
            "\u001b[0m"
          ]
        }
      ]
    },
    {
      "cell_type": "code",
      "execution_count": 5,
      "metadata": {
        "id": "Qa6BVbi77Z7V"
      },
      "outputs": [],
      "source": [
        "import os\n",
        "import sys\n",
        "import git\n",
        "\n",
        "# Clone the Mask_RCNN repository if it does not exist\n",
        "if not os.path.exists(\"Mask_RCNN\"):\n",
        "    print(\"Cloning Mask_RCNN repository...\")\n",
        "    git.Git(\"./\").clone(\"https://github.com/matterport/Mask_RCNN.git\")\n",
        "\n",
        "# Update the import paths\n",
        "with open('Mask_RCNN/mrcnn/model.py', 'r') as file:\n",
        "    filedata = file.read()\n",
        "\n",
        "filedata = filedata.replace('import keras.engine as KE', 'import tensorflow.keras.backend as K')\n",
        "filedata = filedata.replace('import keras.layers as KL', 'import tensorflow.keras.layers as KL')\n",
        "filedata = filedata.replace('import keras.models as KM', 'import tensorflow.keras.models as KM')\n",
        "filedata = filedata.replace('import keras', 'import tensorflow.keras as keras')\n",
        "\n",
        "with open('Mask_RCNN/mrcnn/model.py', 'w') as file:\n",
        "    file.write(filedata)\n"
      ]
    },
    {
      "cell_type": "code",
      "source": [
        "import numpy as np\n",
        "import cv2\n",
        "import pickle\n",
        "import argparse\n",
        "from pathlib import Path\n",
        "from shapely.geometry import box\n",
        "from shapely.geometry import Polygon as shapely_poly\n",
        "from google.colab.patches import cv2_imshow\n",
        "\n",
        "# Import Mask RCNN\n",
        "sys.path.append(\"Mask_RCNN\")\n",
        "from mrcnn.config import Config\n",
        "from mrcnn import utils\n",
        "from mrcnn.model import MaskRCNN\n",
        "\n",
        "class InferenceConfig(Config):\n",
        "    NAME = \"model_config\"\n",
        "    IMAGES_PER_GPU = 1\n",
        "    GPU_COUNT = 1\n",
        "    NUM_CLASSES = 81  # COCO dataset has 80 classes + 1 background class\n",
        "\n",
        "config = InferenceConfig()\n",
        "config.display()\n",
        "\n",
        "ROOT_DIR = os.getcwd()\n",
        "MODEL_DIR = os.path.join(ROOT_DIR, \"logs\")\n",
        "COCO_MODEL_PATH = os.path.join(ROOT_DIR, \"mask_rcnn_coco.h5\")\n",
        "\n",
        "# Download COCO trained weights if not available\n",
        "if not os.path.exists(COCO_MODEL_PATH):\n",
        "    utils.download_trained_weights(COCO_MODEL_PATH)\n",
        "\n",
        "# Create model object in inference mode\n",
        "model = MaskRCNN(mode=\"inference\", model_dir=MODEL_DIR, config=config)\n",
        "model.load_weights(COCO_MODEL_PATH, by_name=True)\n",
        "\n",
        "def get_cars(boxes, class_ids):\n",
        "    cars = []\n",
        "    for i, box in enumerate(boxes):\n",
        "        if class_ids[i] in [3, 8, 6]:\n",
        "            cars.append(box)\n",
        "    return np.array(cars)\n",
        "\n",
        "def compute_overlaps(parked_car_boxes, car_boxes):\n",
        "    new_car_boxes = []\n",
        "    for box in car_boxes:\n",
        "        y1, x1, y2, x2 = box\n",
        "        p1 = (x1, y1)\n",
        "        p2 = (x2, y1)\n",
        "        p3 = (x2, y2)\n",
        "        p4 = (x1, y2)\n",
        "        new_car_boxes.append([p1, p2, p3, p4])\n",
        "\n",
        "    overlaps = np.zeros((len(parked_car_boxes), len(new_car_boxes)))\n",
        "    for i in range(len(parked_car_boxes)):\n",
        "        for j in range(car_boxes.shape[0]):\n",
        "            pol1_xy = parked_car_boxes[i]\n",
        "            pol2_xy = new_car_boxes[j]\n",
        "            polygon1_shape = shapely_poly(pol1_xy)\n",
        "            polygon2_shape = shapely_poly(pol2_xy)\n",
        "\n",
        "            polygon_intersection = polygon1_shape.intersection(polygon2_shape).area\n",
        "            polygon_union = polygon1_shape.union(polygon2_shape).area\n",
        "            IOU = polygon_intersection / polygon_union\n",
        "            overlaps[i][j] = IOU\n",
        "    return overlaps\n",
        "\n",
        "# Argument parser (using default values for Colab)\n",
        "class Args:\n",
        "    video_path = 'video.mp4'  # Replace with your video file path\n",
        "    regions_path = 'regions.p'  # Replace with your regions file path\n",
        "\n",
        "args = Args()\n",
        "\n",
        "# Load the regions\n",
        "with open(args.regions_path, 'rb') as f:\n",
        "    parked_car_boxes = pickle.load(f)\n",
        "\n",
        "VIDEO_SOURCE = args.video_path\n",
        "alpha = 0.6\n",
        "video_capture = cv2.VideoCapture(VIDEO_SOURCE)\n",
        "video_FourCC = cv2.VideoWriter_fourcc('M','J','P','G')\n",
        "video_fps = video_capture.get(cv2.CAP_PROP_FPS)\n",
        "video_size = (int(video_capture.get(cv2.CAP_PROP_FRAME_WIDTH)),\n",
        "              int(video_capture.get(cv2.CAP_PROP_FRAME_HEIGHT)))\n",
        "out = cv2.VideoWriter(\"out.avi\", video_FourCC, video_fps, video_size)\n",
        "\n",
        "while video_capture.isOpened():\n",
        "    success, frame = video_capture.read()\n",
        "    overlay = frame.copy()\n",
        "    if not success:\n",
        "        break\n",
        "\n",
        "    rgb_image = frame[:, :, ::-1]\n",
        "    results = model.detect([rgb_image], verbose=0)\n",
        "\n",
        "    cars = get_cars(results[0]['rois'], results[0]['class_ids'])\n",
        "    overlaps = compute_overlaps(parked_car_boxes, cars)\n",
        "\n",
        "    for parking_area, overlap_areas in zip(parked_car_boxes, overlaps):\n",
        "        max_IoU_overlap = np.max(overlap_areas)\n",
        "        if max_IoU_overlap < 0.15:\n",
        "            cv2.fillPoly(overlay, [np.array(parking_area)], (71, 27, 92))\n",
        "            free_space = True\n",
        "\n",
        "    cv2.addWeighted(overlay, alpha, frame, 1 - alpha, 0, frame)\n",
        "\n",
        "    cv2_imshow(frame)\n",
        "    out.write(frame)\n",
        "    if cv2.waitKey(1) & 0xFF == ord('q'):\n",
        "        break\n",
        "\n",
        "video_capture.release()\n",
        "out.release()\n",
        "cv2.destroyAllWindows()\n",
        "print(\"Output saved as out.avi\")\n"
      ],
      "metadata": {
        "colab": {
          "base_uri": "https://localhost:8080/",
          "height": 258
        },
        "id": "RdM8mtHa9PH-",
        "outputId": "0d57f065-01ea-44eb-9fc2-ff052248abaa"
      },
      "execution_count": 6,
      "outputs": [
        {
          "output_type": "error",
          "ename": "SyntaxError",
          "evalue": "invalid syntax (model.py, line 21)",
          "traceback": [
            "Traceback \u001b[0;36m(most recent call last)\u001b[0m:\n",
            "  File \u001b[1;32m\"/usr/local/lib/python3.10/dist-packages/IPython/core/interactiveshell.py\"\u001b[0m, line \u001b[1;32m3553\u001b[0m, in \u001b[1;35mrun_code\u001b[0m\n    exec(code_obj, self.user_global_ns, self.user_ns)\n",
            "\u001b[0;36m  File \u001b[0;32m\"<ipython-input-6-5efd68fa2169>\"\u001b[0;36m, line \u001b[0;32m14\u001b[0;36m, in \u001b[0;35m<cell line: 14>\u001b[0;36m\u001b[0m\n\u001b[0;31m    from mrcnn.model import MaskRCNN\u001b[0m\n",
            "\u001b[0;36m  File \u001b[0;32m\"/content/Mask_RCNN/mrcnn/model.py\"\u001b[0;36m, line \u001b[0;32m21\u001b[0m\n\u001b[0;31m    import tensorflow.keras as keras.backend as K\u001b[0m\n\u001b[0m                                    ^\u001b[0m\n\u001b[0;31mSyntaxError\u001b[0m\u001b[0;31m:\u001b[0m invalid syntax\n"
          ]
        }
      ]
    }
  ]
}